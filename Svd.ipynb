{
  "nbformat": 4,
  "nbformat_minor": 0,
  "metadata": {
    "colab": {
      "name": "Svd.ipynb",
      "provenance": [],
      "authorship_tag": "ABX9TyOA9bewJys8LJDacbgxppmY",
      "include_colab_link": true
    },
    "kernelspec": {
      "name": "python3",
      "display_name": "Python 3"
    },
    "language_info": {
      "name": "python"
    }
  },
  "cells": [
    {
      "cell_type": "markdown",
      "metadata": {
        "id": "view-in-github",
        "colab_type": "text"
      },
      "source": [
        "<a href=\"https://colab.research.google.com/github/ShythyaSivadas/git_test/blob/master/Svd.ipynb\" target=\"_parent\"><img src=\"https://colab.research.google.com/assets/colab-badge.svg\" alt=\"Open In Colab\"/></a>"
      ]
    },
    {
      "cell_type": "code",
      "execution_count": 1,
      "metadata": {
        "colab": {
          "base_uri": "https://localhost:8080/"
        },
        "id": "MCvlI0sjFnY1",
        "outputId": "1388860a-ff4b-4a18-add7-2daf009ca47d"
      },
      "outputs": [
        {
          "output_type": "stream",
          "name": "stdout",
          "text": [
            "[[-0.80102553 -0.28301186 -0.52750582]\n",
            " [-0.40767885 -0.38736309  0.82689044]\n",
            " [-0.43835608  0.87741332  0.19490977]]\n",
            "[8.770045   2.84251196 0.08022798]\n",
            "[[-0.52042832 -0.55828357 -0.64612215]\n",
            " [ 0.7997344  -0.05345517 -0.59796942]\n",
            " [ 0.29929793 -0.82792633  0.47429816]]\n",
            "[[3. 4. 5.]\n",
            " [1. 2. 3.]\n",
            " [4. 2. 1.]]\n"
          ]
        }
      ],
      "source": [
        "import numpy as p\n",
        "#create a matrix A\n",
        "A=p.array([[3,4,5],[1,2,3],[4,2,1]])\n",
        "#performing svd\n",
        "U,D,VT=p.linalg.svd(A)\n",
        "#CHECKING IF WE CAN REMAKE THE ORIGINAL MATRIX USING U,D,VT\n",
        "Aremake=(U@p.diag(D)@VT)\n",
        "print(U)\n",
        "print(D)\n",
        "print(VT)\n",
        "print(Aremake)"
      ]
    }
  ]
}