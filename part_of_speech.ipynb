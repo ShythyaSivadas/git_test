{
  "nbformat": 4,
  "nbformat_minor": 0,
  "metadata": {
    "colab": {
      "name": "part of speech.ipynb",
      "provenance": [],
      "authorship_tag": "ABX9TyPlT8r9dX7/szn5H+7bXGRr",
      "include_colab_link": true
    },
    "kernelspec": {
      "name": "python3",
      "display_name": "Python 3"
    },
    "language_info": {
      "name": "python"
    }
  },
  "cells": [
    {
      "cell_type": "markdown",
      "metadata": {
        "id": "view-in-github",
        "colab_type": "text"
      },
      "source": [
        "<a href=\"https://colab.research.google.com/github/ShythyaSivadas/git_test/blob/master/part_of_speech.ipynb\" target=\"_parent\"><img src=\"https://colab.research.google.com/assets/colab-badge.svg\" alt=\"Open In Colab\"/></a>"
      ]
    },
    {
      "cell_type": "code",
      "execution_count": 1,
      "metadata": {
        "colab": {
          "base_uri": "https://localhost:8080/"
        },
        "id": "7mzO-S5vDgnn",
        "outputId": "5e94a7e8-c667-4173-953d-6db46debea7f"
      },
      "outputs": [
        {
          "output_type": "stream",
          "name": "stdout",
          "text": [
            "[nltk_data] Downloading package stopwords to /root/nltk_data...\n",
            "[nltk_data]   Unzipping corpora/stopwords.zip.\n",
            "[nltk_data] Downloading package punkt to /root/nltk_data...\n",
            "[nltk_data]   Unzipping tokenizers/punkt.zip.\n",
            "[nltk_data] Downloading package averaged_perceptron_tagger to\n",
            "[nltk_data]     /root/nltk_data...\n",
            "[nltk_data]   Unzipping taggers/averaged_perceptron_tagger.zip.\n"
          ]
        },
        {
          "output_type": "execute_result",
          "data": {
            "text/plain": [
              "True"
            ]
          },
          "metadata": {},
          "execution_count": 1
        }
      ],
      "source": [
        "import nltk\n",
        "from nltk.corpus import stopwords\n",
        "from nltk.tokenize import word_tokenize, sent_tokenize\n",
        "nltk.download('stopwords')\n",
        "nltk.download('punkt')\n",
        "nltk.download('averaged_perceptron_tagger')"
      ]
    },
    {
      "cell_type": "code",
      "source": [
        "text = word_tokenize(\"Hello Student program is Tagging with NLTK and Python\")\n",
        "nltk.pos_tag(text)"
      ],
      "metadata": {
        "colab": {
          "base_uri": "https://localhost:8080/"
        },
        "id": "ifVv0F1CDqUC",
        "outputId": "accd4405-fee2-4871-edd0-75c752b3e9ca"
      },
      "execution_count": 2,
      "outputs": [
        {
          "output_type": "execute_result",
          "data": {
            "text/plain": [
              "[('Hello', 'NNP'),\n",
              " ('Student', 'NNP'),\n",
              " ('program', 'NN'),\n",
              " ('is', 'VBZ'),\n",
              " ('Tagging', 'VBG'),\n",
              " ('with', 'IN'),\n",
              " ('NLTK', 'NNP'),\n",
              " ('and', 'CC'),\n",
              " ('Python', 'NNP')]"
            ]
          },
          "metadata": {},
          "execution_count": 2
        }
      ]
    },
    {
      "cell_type": "code",
      "source": [
        "stop_words = set(stopwords.words('english'))\n",
        "print(stop_words)"
      ],
      "metadata": {
        "colab": {
          "base_uri": "https://localhost:8080/"
        },
        "id": "zLr5q2bLD2qq",
        "outputId": "5bc60f05-7156-4520-99d4-6fe43300fe11"
      },
      "execution_count": 3,
      "outputs": [
        {
          "output_type": "stream",
          "name": "stdout",
          "text": [
            "{'i', 'can', 'hasn', \"couldn't\", 'on', 'll', \"aren't\", 're', 'our', 'hadn', 'mightn', 'myself', 'from', 'off', 'she', 'both', \"shan't\", 'after', 'them', 'too', \"weren't\", 'not', 'who', \"she's\", 'these', 'ma', 'did', 'shouldn', 'those', 'in', 'but', 'above', 'his', 'the', \"doesn't\", \"won't\", 'when', 'does', 'him', 'which', 'haven', 'or', 'further', 'should', 'yourself', 'yours', 'couldn', 'her', \"wouldn't\", 'doesn', 'himself', 'm', 'over', 'no', 'had', 'won', 'being', 'doing', 'at', 'that', 'do', 'whom', 'between', 'before', 'with', 'against', 'd', 'have', 'ain', 'of', 'your', 'why', \"you've\", 'has', 'then', 'didn', 'yourselves', 'shan', \"don't\", \"hadn't\", \"mightn't\", 'all', 'will', 'my', 'here', 'they', 'few', 'again', 'once', 'now', 've', 'he', 'nor', 'you', 'each', 'so', 'any', \"that'll\", \"didn't\", \"isn't\", \"you'll\", 'was', 'a', 'what', 'out', 'by', 'its', \"it's\", 'been', 'own', 'as', 'their', 'below', 'we', 'very', 'ourselves', 'about', 'isn', \"mustn't\", 'such', 'weren', 'some', 'only', 'mustn', 'itself', 'where', 'am', \"you'd\", 'be', \"should've\", 'for', 'wouldn', \"shouldn't\", 'until', 'into', 'than', 'an', 'were', 'themselves', \"hasn't\", 's', 'down', 'wasn', 'while', 'theirs', 'more', 'this', 'needn', 'during', 'to', \"wasn't\", 'o', 'is', 'ours', 'other', 'and', 'having', 'it', 'just', 'because', 't', 'herself', 'are', 'hers', 'don', 'y', 'if', \"you're\", 'how', 'through', 'most', 'same', 'aren', 'there', 'up', 'under', \"needn't\", \"haven't\", 'me'}\n"
          ]
        }
      ]
    },
    {
      "cell_type": "code",
      "source": [
        "text = \"Python has a simple syntax similar to the English language and it's syntax that allows developers to write programs with fewer lines\"\n",
        "tokenized = sent_tokenize(text)\n",
        "print(tokenized)\n",
        "for i in tokenized:\n",
        "      \n",
        "    # Word tokenizers is used to find the words \n",
        "    # and punctuation in a string\n",
        "    wordsList = nltk.word_tokenize(i)\n",
        "  \n",
        "    # removing stop words from wordList\n",
        "    wordsList = [w for w in wordsList if not w in stop_words] \n",
        "  \n",
        "    #  Using a Tagger. Which is part-of-speech \n",
        "    # tagger or POS-tagger. \n",
        "    tagged = nltk.pos_tag(wordsList)\n",
        "  \n",
        "    print(tagged)"
      ],
      "metadata": {
        "colab": {
          "base_uri": "https://localhost:8080/"
        },
        "id": "GXkOxX6nEGLZ",
        "outputId": "3f71902c-6913-47b2-df1d-96362b4884e7"
      },
      "execution_count": 4,
      "outputs": [
        {
          "output_type": "stream",
          "name": "stdout",
          "text": [
            "[\"Python has a simple syntax similar to the English language and it's syntax that allows developers to write programs with fewer lines\"]\n",
            "[('Python', 'NNP'), ('simple', 'JJ'), ('syntax', 'NN'), ('similar', 'JJ'), ('English', 'NNP'), ('language', 'NN'), (\"'s\", 'POS'), ('syntax', 'NN'), ('allows', 'VBZ'), ('developers', 'NNS'), ('write', 'JJ'), ('programs', 'NNS'), ('fewer', 'JJR'), ('lines', 'NNS')]\n"
          ]
        }
      ]
    }
  ]
}