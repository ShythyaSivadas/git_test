{
  "nbformat": 4,
  "nbformat_minor": 0,
  "metadata": {
    "colab": {
      "name": "panda.ipynb",
      "provenance": [],
      "authorship_tag": "ABX9TyOLFGZrctzqRvnFVnpM02/0",
      "include_colab_link": true
    },
    "kernelspec": {
      "name": "python3",
      "display_name": "Python 3"
    },
    "language_info": {
      "name": "python"
    }
  },
  "cells": [
    {
      "cell_type": "markdown",
      "metadata": {
        "id": "view-in-github",
        "colab_type": "text"
      },
      "source": [
        "<a href=\"https://colab.research.google.com/github/ShythyaSivadas/git_test/blob/master/panda.ipynb\" target=\"_parent\"><img src=\"https://colab.research.google.com/assets/colab-badge.svg\" alt=\"Open In Colab\"/></a>"
      ]
    },
    {
      "cell_type": "code",
      "metadata": {
        "id": "L1VWinEnnixT"
      },
      "source": [
        "import pandas as pd\n",
        "mydataset={\n",
        "    'Stud_name':[\"Nivya\",\"Anu\",\"Manu\",\"Bithu\",\"Diya\"],\n",
        "    'Grade':[\"A\",\"B\",\"C\",\"A\",\"D\"],\n",
        "    'Percentage':[90,87,77,60,55]\n",
        "}\n",
        "myvar=pd.DataFrame(mydataset)\n",
        "print(myvar)"
      ],
      "execution_count": null,
      "outputs": []
    },
    {
      "cell_type": "code",
      "metadata": {
        "id": "rYh78W0mpwEu"
      },
      "source": [
        "import pandas as pd\n",
        "mydataset={\n",
        "    'Stud_name':[\"Nivya\",\"Anu\",\"Manu\",\"Bithu\",\"Diya\"],\n",
        "    'Grade':[\"A\",\"B\",\"C\",\"A\",\"D\"],\n",
        "    'Percentage':[90,87,77,60,55]\n",
        "}\n",
        "myvar=pd.DataFrame(mydataset)\n",
        "print(myvar.loc[1])"
      ],
      "execution_count": null,
      "outputs": []
    },
    {
      "cell_type": "code",
      "metadata": {
        "id": "-ZqwhKVyx6ye"
      },
      "source": [
        "import pandas as pd\n",
        "mydataset={\n",
        "    'Subject':[\"Python\",\"Datascience\",\"IoT\",\"Java\",\"Project\"],\n",
        "    'Hours':[3,1,2,3,2]\n",
        "}\n",
        "myvar=pd.DataFrame(mydataset,index=[\"Mon\",\"Tue\",\"Wed\",\"Thu\",\"Fri\"])\n",
        "print(myvar)"
      ],
      "execution_count": null,
      "outputs": []
    },
    {
      "cell_type": "code",
      "metadata": {
        "id": "ptuk_hAJ0DtP"
      },
      "source": [
        "import pandas as pd\n",
        "mydataset={\n",
        "    'Subject':[\"Python\",\"DataScience\",\"IoT\",\"Java\",\"Project\"],\n",
        "    'Hours':[3,2,1,2,3]\n",
        "}\n",
        "myvar=pd.DataFrame(mydataset,index=[\"Mon\",\"Tue\",\"Wed\",\"Thu\",\"Fri\"])\n",
        "print(myvar.loc[\"Fri\"])"
      ],
      "execution_count": null,
      "outputs": []
    },
    {
      "cell_type": "code",
      "metadata": {
        "colab": {
          "base_uri": "https://localhost:8080/"
        },
        "id": "btz6gCWJ2Y8H",
        "outputId": "89332be5-4d0f-4c35-ade7-e235da0f4608"
      },
      "source": [
        "import pandas as pd\n",
        "print(pd.__version__)"
      ],
      "execution_count": null,
      "outputs": [
        {
          "output_type": "stream",
          "name": "stdout",
          "text": [
            "1.1.5\n"
          ]
        }
      ]
    },
    {
      "cell_type": "code",
      "metadata": {
        "id": "IQjbypsPs081"
      },
      "source": [
        "import pandas as pd\n",
        "A=[1,2,3,4,5,6,7,8]\n",
        "myvar=pd.Series(A)\n",
        "print(myvar)\n"
      ],
      "execution_count": null,
      "outputs": []
    },
    {
      "cell_type": "code",
      "metadata": {
        "id": "UOOlIKrUtY-2"
      },
      "source": [
        "import pandas as pd\n",
        "A=[1,2,3,4,5,6,7,8]\n",
        "myvar=pd.Series(A)\n",
        "print(myvar[5])\n"
      ],
      "execution_count": null,
      "outputs": []
    },
    {
      "cell_type": "code",
      "metadata": {
        "id": "3dFe78sZtnlW"
      },
      "source": [
        "import pandas as pd\n",
        "A=[1,2,3,4,5]\n",
        "myvar=pd.Series(A,index=[\"A\",\"B\",\"C\",\"D\",\"E\"])\n",
        "print(myvar)\n",
        "\n"
      ],
      "execution_count": null,
      "outputs": []
    },
    {
      "cell_type": "code",
      "metadata": {
        "id": "R0_krZsjunAG"
      },
      "source": [
        "import pandas as pd\n",
        "A=[1,2,3,4]\n",
        "myvar=pd.Series(A,index=[\"A\",\"B\",\"C\",\"D\"])\n",
        "print(myvar[\"C\"])"
      ],
      "execution_count": null,
      "outputs": []
    },
    {
      "cell_type": "code",
      "metadata": {
        "id": "1J5eq_wkvJuN"
      },
      "source": [
        "import pandas as pd\n",
        "a={\"Fruits\":40,\"Vegetables\":45,\"Nuts\":50}\n",
        "myvar=pd.Series(a)\n",
        "print(myvar)"
      ],
      "execution_count": null,
      "outputs": []
    },
    {
      "cell_type": "code",
      "metadata": {
        "id": "8hfR8DCWxPpn"
      },
      "source": [
        "import pandas as pd\n",
        "a={\"Fruits\":40,\"Vegetables\":45,\"Nuts\":50}\n",
        "myvar=pd.Series(a,index=[\"Fruits\",\"Nuts\"])\n",
        "print(myvar)"
      ],
      "execution_count": null,
      "outputs": []
    },
    {
      "cell_type": "code",
      "metadata": {
        "id": "y1BMVSZpwBcH"
      },
      "source": [
        "import pandas as pd\n",
        "print(\"MULTIPLICATION TABLE OF 2\")\n",
        "a=[i for i in range(0,11)]\n",
        "n=pd.Series(a)\n",
        "mul=n.multiply(other=2)\n",
        "print(mul)\n"
      ],
      "execution_count": null,
      "outputs": []
    },
    {
      "cell_type": "code",
      "metadata": {
        "id": "Sj37W60Lwqd1"
      },
      "source": [
        "import pandas as pd\n",
        "print(\"MULTIPLICATION TABLE OF 3\")\n",
        "a=[i for i in range(0,11)]\n",
        "n=pd.Series(a)\n",
        "mul=n.multiply(other=3)\n",
        "print(mul)"
      ],
      "execution_count": null,
      "outputs": []
    },
    {
      "cell_type": "code",
      "metadata": {
        "id": "ZN8LfqYfHlVT"
      },
      "source": [
        "import pandas as pd\n",
        "df=pd.read_csv('data.csv')\n",
        "print(df.to_string())"
      ],
      "execution_count": null,
      "outputs": []
    },
    {
      "cell_type": "code",
      "metadata": {
        "id": "b-yLFmN6MTVz"
      },
      "source": [
        "import pandas as pd\n",
        "df=pd.read_csv('data.csv',header=[1,2,3,4,5])\n",
        "print(df.to_string())"
      ],
      "execution_count": null,
      "outputs": []
    },
    {
      "cell_type": "code",
      "metadata": {
        "id": "0PApLvBAL4na"
      },
      "source": [
        "import pandas as pd\n",
        "df=pd.read_csv('data.csv')\n",
        "new_df=df.dropna()\n",
        "print(new_df.to_string())\n",
        "\n"
      ],
      "execution_count": null,
      "outputs": []
    },
    {
      "cell_type": "code",
      "metadata": {
        "id": "BOV6Q9mgOCT6"
      },
      "source": [
        "import pandas as pd\n",
        "df=pd.read_csv('data.csv')\n",
        "df.dropna(inplace=True)\n",
        "print(df.to_string())"
      ],
      "execution_count": null,
      "outputs": []
    },
    {
      "cell_type": "code",
      "metadata": {
        "id": "qLSKkD-LPHwq"
      },
      "source": [
        "import pandas as pd\n",
        "df=pd.read_csv('data.csv')\n",
        "print(df.duplicated())\n"
      ],
      "execution_count": null,
      "outputs": []
    },
    {
      "cell_type": "code",
      "metadata": {
        "id": "QCoNntkdPb9R"
      },
      "source": [
        "import pandas as pd\n",
        "df=pd.read_csv('data.csv')\n",
        "df.corr()"
      ],
      "execution_count": null,
      "outputs": []
    },
    {
      "cell_type": "code",
      "metadata": {
        "id": "qAXfI5iVPzpq"
      },
      "source": [
        "import matplotlib.pyplot as plt\n",
        "import pandas as pd\n",
        "df=pd.read_csv('data.csv')\n",
        "df.plot()\n",
        "plt.show()\n"
      ],
      "execution_count": null,
      "outputs": []
    },
    {
      "cell_type": "code",
      "metadata": {
        "id": "Z4M-XXW5RLmz"
      },
      "source": [
        "import pandas as pd\n",
        "df=pd.read_csv('data.csv')\n",
        "print(df.fillna(130).to_string())\n",
        "\n"
      ],
      "execution_count": null,
      "outputs": []
    },
    {
      "cell_type": "code",
      "metadata": {
        "id": "TkwovzTHS-Fi"
      },
      "source": [
        "import pandas as pd\n",
        "df=pd.read_csv('data.csv')\n",
        "print(df.tail())"
      ],
      "execution_count": null,
      "outputs": []
    },
    {
      "cell_type": "code",
      "metadata": {
        "id": "qrt4sh7bTHBE"
      },
      "source": [
        ""
      ],
      "execution_count": null,
      "outputs": []
    },
    {
      "cell_type": "code",
      "metadata": {
        "id": "lPr46IE4TR4J",
        "colab": {
          "base_uri": "https://localhost:8080/"
        },
        "outputId": "72bebf3b-104d-4ec2-968a-326af9fb3bde"
      },
      "source": [
        "import pandas as pd\n",
        "df=pd.read_csv('data.csv')\n",
        "print(df.head())"
      ],
      "execution_count": null,
      "outputs": [
        {
          "output_type": "stream",
          "name": "stdout",
          "text": [
            "   Duration  Pulse  Maxpulse  Calories\n",
            "0        60    110       130     409.1\n",
            "1        60    117       145     479.0\n",
            "2        60    103       135     340.0\n",
            "3        45    109       175     282.4\n",
            "4        45    117       148     406.0\n"
          ]
        }
      ]
    },
    {
      "cell_type": "code",
      "metadata": {
        "id": "m9VfhbsjWnyD"
      },
      "source": [
        "import pandas as pd\n",
        "df=pd.read_csv('data.csv')\n",
        "df['Duration']=pd.to_datetime(df['Duration'])\n",
        "print(df.to_string())"
      ],
      "execution_count": null,
      "outputs": []
    }
  ]
}