{
  "nbformat": 4,
  "nbformat_minor": 0,
  "metadata": {
    "colab": {
      "name": "linearregression.ipynb",
      "provenance": [],
      "authorship_tag": "ABX9TyNyEXzb5k73KGbybUz6QsgN",
      "include_colab_link": true
    },
    "kernelspec": {
      "name": "python3",
      "display_name": "Python 3"
    },
    "language_info": {
      "name": "python"
    }
  },
  "cells": [
    {
      "cell_type": "markdown",
      "metadata": {
        "id": "view-in-github",
        "colab_type": "text"
      },
      "source": [
        "<a href=\"https://colab.research.google.com/github/ShythyaSivadas/git_test/blob/master/linearregression.ipynb\" target=\"_parent\"><img src=\"https://colab.research.google.com/assets/colab-badge.svg\" alt=\"Open In Colab\"/></a>"
      ]
    },
    {
      "cell_type": "code",
      "execution_count": null,
      "metadata": {
        "id": "i0-jkFCeo2am"
      },
      "outputs": [],
      "source": [
        "import numpy as np\n",
        "import matplotlib.pyplot as plt\n",
        "from sklearn.linear_model import LinearRegression"
      ]
    },
    {
      "cell_type": "code",
      "source": [
        "xpoints = np.array([10, 11, 12, 13, 14, 15]).reshape(-1,1)\n",
        "ypoints = np.array([53, 52, 60, 63, 72, 70])\n",
        "linreg = LinearRegression()\n",
        "linreg.fit(xpoints, ypoints)\n",
        "y_pred = linreg.predict(xpoints)\n",
        "plt.scatter(xpoints, ypoints)\n",
        "plt.plot(xpoints, y_pred)\n",
        "plt.xlabel(\"x-labels\")\n",
        "plt.ylabel(\"y-labels\")\n",
        "plt.show()"
      ],
      "metadata": {
        "colab": {
          "base_uri": "https://localhost:8080/",
          "height": 279
        },
        "id": "Wmgs-Nz5bWca",
        "outputId": "81df3a56-5592-4c11-b689-88c3b7afadd1"
      },
      "execution_count": null,
      "outputs": [
        {
          "output_type": "display_data",
          "data": {
            "image/png": "[encoded data removed]",
            "text/plain": [
              "<Figure size 432x288 with 1 Axes>"
            ]
          },
          "metadata": {
            "needs_background": "light"
          }
        }
      ]
    },
    {
      "cell_type": "code",
      "source": [
        "print(linreg.coef_)\n",
        "print(linreg.intercept_)"
      ],
      "metadata": {
        "colab": {
          "base_uri": "https://localhost:8080/"
        },
        "id": "TaYdLKM4eVEK",
        "outputId": "b45e571f-4d25-4353-abd1-1b71657d3432"
      },
      "execution_count": null,
      "outputs": [
        {
          "output_type": "stream",
          "name": "stdout",
          "text": [
            "[4.22857143]\n",
            "8.809523809523803\n"
          ]
        }
      ]
    },
    {
      "cell_type": "code",
      "source": [
        "y_new=linreg.predict(xpoints)\n",
        "print(y_new)\n",
        "linreg.score(xpoints,ypoints)"
      ],
      "metadata": {
        "colab": {
          "base_uri": "https://localhost:8080/"
        },
        "id": "cq8XCYVjexuI",
        "outputId": "f567c367-6e3f-49c9-953d-e01b7a9a51e1"
      },
      "execution_count": null,
      "outputs": [
        {
          "output_type": "stream",
          "name": "stdout",
          "text": [
            "[51.0952381  55.32380952 59.55238095 63.78095238 68.00952381 72.23809524]\n"
          ]
        },
        {
          "output_type": "execute_result",
          "data": {
            "text/plain": [
              "0.8957470010905126"
            ]
          },
          "metadata": {},
          "execution_count": 8
        }
      ]
    },
    {
      "cell_type": "code",
      "source": [
        "import matplotlib.pyplot as plt\n",
        "from sklearn.linear_model import LinearRegression\n",
        "from sklearn.datasets import load_iris\n",
        "from sklearn.model_selection import train_test_split"
      ],
      "metadata": {
        "id": "QAeM5VO7gi5J"
      },
      "execution_count": null,
      "outputs": []
    },
    {
      "cell_type": "code",
      "source": [
        "# load dataset and sort as train and test data\n",
        "data=load_iris()\n",
        "x,y=data.data,data.data\n",
        "x_train,x_test,y_train,y_test=train_test_split(x,y,test_size=2)\n",
        "# fit data using object\n",
        "linreg = LinearRegression()\n",
        "linreg.fit(x_train, y_train)\n",
        "# calculate score\n",
        "linreg.score(x_test,y_test)"
      ],
      "metadata": {
        "colab": {
          "base_uri": "https://localhost:8080/"
        },
        "id": "4ZpNZn5yhLvp",
        "outputId": "f63abc8c-f9b3-47ed-c0be-b9cfc7182e6f"
      },
      "execution_count": null,
      "outputs": [
        {
          "output_type": "execute_result",
          "data": {
            "text/plain": [
              "1.0"
            ]
          },
          "metadata": {},
          "execution_count": 21
        }
      ]
    },
    {
      "cell_type": "code",
      "source": [
        "linreg.predict(x_test)"
      ],
      "metadata": {
        "colab": {
          "base_uri": "https://localhost:8080/"
        },
        "id": "bEV89CIwhkVv",
        "outputId": "accab1e2-2509-46a3-884b-b028c7e6b8e5"
      },
      "execution_count": null,
      "outputs": [
        {
          "output_type": "execute_result",
          "data": {
            "text/plain": [
              "array([[5.7, 2.6, 3.5, 1. ],\n",
              "       [6.4, 2.9, 4.3, 1.3]])"
            ]
          },
          "metadata": {},
          "execution_count": 22
        }
      ]
    },
    {
      "cell_type": "code",
      "source": [
        "plt.scatter(x_train,y_train)\n",
        "plt.plot(x_test, y_test)"
      ],
      "metadata": {
        "colab": {
          "base_uri": "https://localhost:8080/",
          "height": 334
        },
        "id": "HdSmS0RXlDrQ",
        "outputId": "3bcd4b87-99e8-4119-9994-420985d56d8a"
      },
      "execution_count": null,
      "outputs": [
        {
          "output_type": "execute_result",
          "data": {
            "text/plain": [
              "[<matplotlib.lines.Line2D at 0x7fa8b4adb390>,\n",
              " <matplotlib.lines.Line2D at 0x7fa8b4adb5d0>,\n",
              " <matplotlib.lines.Line2D at 0x7fa8b4adb790>,\n",
              " <matplotlib.lines.Line2D at 0x7fa8b4adb950>]"
            ]
          },
          "metadata": {},
          "execution_count": 23
        },
        {
          "output_type": "display_data",
          "data": {
            "image/png": "[encoded data removed]",
            "text/plain": [
              "<Figure size 432x288 with 1 Axes>"
            ]
          },
          "metadata": {
            "needs_background": "light"
          }
        }
      ]
    }
  ]
}