{
  "nbformat": 4,
  "nbformat_minor": 0,
  "metadata": {
    "colab": {
      "name": "Naive.ipynb",
      "provenance": [],
      "authorship_tag": "ABX9TyMbQ++iAA9/RUVjQT3GCE7Q",
      "include_colab_link": true
    },
    "kernelspec": {
      "name": "python3",
      "display_name": "Python 3"
    },
    "language_info": {
      "name": "python"
    }
  },
  "cells": [
    {
      "cell_type": "markdown",
      "metadata": {
        "id": "view-in-github",
        "colab_type": "text"
      },
      "source": [
        "<a href=\"https://colab.research.google.com/github/ShythyaSivadas/git_test/blob/master/Naive.ipynb\" target=\"_parent\"><img src=\"https://colab.research.google.com/assets/colab-badge.svg\" alt=\"Open In Colab\"/></a>"
      ]
    },
    {
      "cell_type": "code",
      "execution_count": 1,
      "metadata": {
        "colab": {
          "base_uri": "https://localhost:8080/"
        },
        "id": "2ZKGge1AAiQh",
        "outputId": "d61b4562-ad9e-4c08-d7ff-5fd575427765"
      },
      "outputs": [
        {
          "output_type": "stream",
          "name": "stdout",
          "text": [
            "Accuracy: 0.8947368421052632\n"
          ]
        }
      ],
      "source": [
        "from sklearn.datasets import load_iris\n",
        "from sklearn.model_selection import train_test_split\n",
        "from sklearn.naive_bayes import GaussianNB\n",
        "iris=load_iris()\n",
        "x_train,x_test,y_train,y_test=train_test_split(iris.data,iris.target,test_size=0.25)\n",
        "#create a gaussian nb classifier\n",
        "gnb=GaussianNB()\n",
        "#train the model using training set \n",
        "gnb.fit(x_train,y_train)\n",
        "#predict the response for test data set\n",
        "y_predict=gnb.predict(x_test)\n",
        "\n",
        "\n",
        "#import metrics module for accuracy calculation\n",
        "from sklearn import metrics\n",
        "print(\"Accuracy:\",metrics.accuracy_score(y_test,y_predict))\n"
      ]
    }
  ]
}