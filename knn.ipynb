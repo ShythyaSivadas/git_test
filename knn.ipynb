{
  "nbformat": 4,
  "nbformat_minor": 0,
  "metadata": {
    "colab": {
      "name": "knn.ipynb",
      "provenance": [],
      "authorship_tag": "ABX9TyOeHeXdP4WJWDnroGwjNrrt",
      "include_colab_link": true
    },
    "kernelspec": {
      "name": "python3",
      "display_name": "Python 3"
    },
    "language_info": {
      "name": "python"
    }
  },
  "cells": [
    {
      "cell_type": "markdown",
      "metadata": {
        "id": "view-in-github",
        "colab_type": "text"
      },
      "source": [
        "<a href=\"https://colab.research.google.com/github/ShythyaSivadas/git_test/blob/master/knn.ipynb\" target=\"_parent\"><img src=\"https://colab.research.google.com/assets/colab-badge.svg\" alt=\"Open In Colab\"/></a>"
      ]
    },
    {
      "cell_type": "code",
      "execution_count": null,
      "metadata": {
        "colab": {
          "base_uri": "https://localhost:8080/"
        },
        "id": "mh6unmPF0C8c",
        "outputId": "982a018c-c604-4e36-a9f5-1c7e1f89dd79"
      },
      "outputs": [
        {
          "output_type": "stream",
          "name": "stdout",
          "text": [
            "[0]\n",
            "[[0.33333333 0.33333333 0.33333333]]\n"
          ]
        }
      ],
      "source": [
        "from sklearn.neighbors import KNeighborsClassifier\n",
        "model=KNeighborsClassifier(n_neighbors=3)\n",
        "model.fit([[8,5],[3,7],[3,6],[7,3]],[1,0,1,2])\n",
        "predict=model.predict([[0,2]])\n",
        "print(predict)\n",
        "probability=model.predict_proba([[0,2]])\n",
        "print(probability)\n"
      ]
    },
    {
      "cell_type": "code",
      "source": [
        "from sklearn.neighbors import KNeighborsClassifier\n",
        "model=KNeighborsClassifier(n_neighbors=4)\n",
        "from sklearn.datasets import load_iris\n",
        "from sklearn.model_selection import train_test_split\n",
        "X,y=load_iris(return_X_y=True)\n",
        "X_train,X_test,y_train,y_test=train_test_split(X,y,test_size=0.5,random_state=0)\n",
        "y_pred=model.fit(X_train,y_train).predict(X_test)\n",
        "print(\"No.of unlabeled points out of a total %d points:%d\" %(X_test.shape[0],(y_test!=y_pred).sum()))"
      ],
      "metadata": {
        "id": "KyIqmvDTAfpR",
        "colab": {
          "base_uri": "https://localhost:8080/"
        },
        "outputId": "caf2207e-ac48-431b-b035-8a336dd1bd17"
      },
      "execution_count": null,
      "outputs": [
        {
          "output_type": "stream",
          "name": "stdout",
          "text": [
            "No.of unlabeled points out of a total 75 points:6\n"
          ]
        }
      ]
    },
    {
      "cell_type": "code",
      "source": [
        "\n",
        " \n"
      ],
      "metadata": {
        "id": "k1ty049JbOnk"
      },
      "execution_count": null,
      "outputs": []
    }
  ]
}